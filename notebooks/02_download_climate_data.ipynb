{
 "cells": [
  {
   "cell_type": "markdown",
   "id": "428f3f6c",
   "metadata": {},
   "source": [
    "## Libraries"
   ]
  },
  {
   "cell_type": "code",
   "execution_count": null,
   "id": "61bb9a53",
   "metadata": {},
   "outputs": [],
   "source": [
    "# Standard library imports\n",
    "import os\n",
    "import zipfile\n",
    "from pathlib import Path\n",
    "\n",
    "# Third-party imports\n",
    "import pandas as pd\n",
    "import cdsapi"
   ]
  },
  {
   "cell_type": "markdown",
   "id": "6481398a",
   "metadata": {},
   "source": [
    "## Define Paths"
   ]
  },
  {
   "cell_type": "code",
   "execution_count": 2,
   "id": "10e0de34",
   "metadata": {},
   "outputs": [],
   "source": [
    "data_dir = Path.cwd().parent / 'data'\n",
    "climate_data_dir = data_dir / 'climate_data'\n",
    "lyme_dataset_path = data_dir / 'UKHSA-2017-2022-Lyme-Disease.csv'"
   ]
  },
  {
   "cell_type": "markdown",
   "id": "8b2631aa",
   "metadata": {},
   "source": [
    "## Load Dataset"
   ]
  },
  {
   "cell_type": "code",
   "execution_count": 4,
   "id": "2fdea2ba",
   "metadata": {},
   "outputs": [
    {
     "data": {
      "text/html": [
       "<div>\n",
       "<style scoped>\n",
       "    .dataframe tbody tr th:only-of-type {\n",
       "        vertical-align: middle;\n",
       "    }\n",
       "\n",
       "    .dataframe tbody tr th {\n",
       "        vertical-align: top;\n",
       "    }\n",
       "\n",
       "    .dataframe thead th {\n",
       "        text-align: right;\n",
       "    }\n",
       "</style>\n",
       "<table border=\"1\" class=\"dataframe\">\n",
       "  <thead>\n",
       "    <tr style=\"text-align: right;\">\n",
       "      <th></th>\n",
       "      <th>Year</th>\n",
       "      <th>Council</th>\n",
       "      <th>Case</th>\n",
       "      <th>Population</th>\n",
       "      <th>Incidence</th>\n",
       "      <th>Lower_95CI</th>\n",
       "      <th>Upper_95CI</th>\n",
       "    </tr>\n",
       "  </thead>\n",
       "  <tbody>\n",
       "    <tr>\n",
       "      <th>0</th>\n",
       "      <td>2017</td>\n",
       "      <td>Adur</td>\n",
       "      <td>1.0</td>\n",
       "      <td>63721.0</td>\n",
       "      <td>1.56934</td>\n",
       "      <td>0.03973</td>\n",
       "      <td>8.74381</td>\n",
       "    </tr>\n",
       "    <tr>\n",
       "      <th>1</th>\n",
       "      <td>2017</td>\n",
       "      <td>Allerdale</td>\n",
       "      <td>3.0</td>\n",
       "      <td>97213.0</td>\n",
       "      <td>3.08601</td>\n",
       "      <td>0.63641</td>\n",
       "      <td>9.01862</td>\n",
       "    </tr>\n",
       "    <tr>\n",
       "      <th>2</th>\n",
       "      <td>2017</td>\n",
       "      <td>Amber Valley</td>\n",
       "      <td>4.0</td>\n",
       "      <td>125898.0</td>\n",
       "      <td>3.17718</td>\n",
       "      <td>0.86567</td>\n",
       "      <td>8.13483</td>\n",
       "    </tr>\n",
       "    <tr>\n",
       "      <th>3</th>\n",
       "      <td>2017</td>\n",
       "      <td>Arun</td>\n",
       "      <td>9.0</td>\n",
       "      <td>158657.0</td>\n",
       "      <td>5.67262</td>\n",
       "      <td>2.59388</td>\n",
       "      <td>10.76839</td>\n",
       "    </tr>\n",
       "    <tr>\n",
       "      <th>4</th>\n",
       "      <td>2017</td>\n",
       "      <td>Ashfield</td>\n",
       "      <td>0.0</td>\n",
       "      <td>126164.0</td>\n",
       "      <td>0.00000</td>\n",
       "      <td>0.00000</td>\n",
       "      <td>2.92388</td>\n",
       "    </tr>\n",
       "  </tbody>\n",
       "</table>\n",
       "</div>"
      ],
      "text/plain": [
       "   Year       Council  Case  Population  Incidence  Lower_95CI  Upper_95CI\n",
       "0  2017          Adur   1.0     63721.0    1.56934     0.03973     8.74381\n",
       "1  2017     Allerdale   3.0     97213.0    3.08601     0.63641     9.01862\n",
       "2  2017  Amber Valley   4.0    125898.0    3.17718     0.86567     8.13483\n",
       "3  2017          Arun   9.0    158657.0    5.67262     2.59388    10.76839\n",
       "4  2017      Ashfield   0.0    126164.0    0.00000     0.00000     2.92388"
      ]
     },
     "execution_count": 4,
     "metadata": {},
     "output_type": "execute_result"
    }
   ],
   "source": [
    "df = pd.read_csv(lyme_dataset_path)\n",
    "df.head()"
   ]
  },
  {
   "cell_type": "markdown",
   "id": "c2639f77",
   "metadata": {},
   "source": [
    "## Get Climate Data"
   ]
  },
  {
   "cell_type": "code",
   "execution_count": null,
   "id": "1bcd9cda",
   "metadata": {},
   "outputs": [],
   "source": [
    "def download_uk_climate_data(years: list, output_filename: str = 'uk_climate_data.zip') -> None:\n",
    "    \"\"\"\n",
    "    Download UK climate data using cdsapi\n",
    "    \n",
    "    Parameters\n",
    "    ----------\n",
    "    years : list\n",
    "        The list of years as strings, e.g., ['2020', '2021', '2022'].\n",
    "    output_filename : str\n",
    "        The name for the output NetCDF file. Default is 'uk_climate_data.zip'.\n",
    "    \"\"\"\n",
    "    c = cdsapi.Client()\n",
    "    \n",
    "    print(f\"Downloading UK climate data for years: {years}\")\n",
    "    print(\"This may take several minutes...\")\n",
    "    \n",
    "    dataset = \"reanalysis-era5-land-monthly-means\"\n",
    "    request = {\n",
    "        \"product_type\": [\"monthly_averaged_reanalysis\"],\n",
    "        \"variable\": [\n",
    "            \"2m_temperature\",\n",
    "            \"total_evaporation\",\n",
    "            \"total_precipitation\",\n",
    "            \"high_vegetation_cover\",\n",
    "            \"type_of_high_vegetation\",\n",
    "        ],\n",
    "        \"year\": years,\n",
    "        \"month\": [\"05\", \"06\", \"07\"],\n",
    "        \"time\": [\"00:00\"],\n",
    "        \"data_format\": \"netcdf\",\n",
    "        \"download_format\": \"zip\",\n",
    "        \"area\": [61, -8, 49, 2],\n",
    "    }\n",
    "    \n",
    "    c.retrieve(dataset, request, output_filename)\n",
    "    \n",
    "    print(f\"Download complete! Data saved as: {output_filename}\")"
   ]
  },
  {
   "cell_type": "code",
   "execution_count": null,
   "id": "cbe9515b",
   "metadata": {},
   "outputs": [],
   "source": [
    "climate_filename = data_dir / 'climate_data' / 'uk_climate_data.zip'\n",
    "years = df['Year'].unique().astype(str).tolist()\n",
    "\n",
    "download_uk_climate_data(years, output_filename=climate_filename)"
   ]
  },
  {
   "cell_type": "markdown",
   "id": "b8d546e2",
   "metadata": {},
   "source": [
    "## Extract Climate Data"
   ]
  },
  {
   "cell_type": "code",
   "execution_count": null,
   "id": "db0d06b2",
   "metadata": {},
   "outputs": [],
   "source": [
    "def extract_climate_data(zip_filename: str, extract_to: str = 'climate_data') -> None:\n",
    "    \"\"\"\n",
    "    Extracts the contents of a zip file to a specified directory.\n",
    "    \n",
    "    Parameters\n",
    "    ----------\n",
    "    zip_filename : str\n",
    "        The name of the zip file to extract.\n",
    "    extract_to : str\n",
    "        The directory to extract files into. Default is 'climate_data'.\n",
    "    \"\"\"\n",
    "    with zipfile.ZipFile(zip_filename, 'r') as zip_ref:\n",
    "        zip_ref.extractall(extract_to)\n",
    "    \n",
    "    os.remove(zip_filename)  # Remove the zip file after extraction\n",
    "    print(f\"Extracted files to: {extract_to}\")"
   ]
  },
  {
   "cell_type": "code",
   "execution_count": null,
   "id": "3ea2df4b",
   "metadata": {},
   "outputs": [],
   "source": [
    "climate_data_path = climate_data_dir / 'uk_climate_data.zip'\n",
    "\n",
    "extract_climate_data(climate_data_path, extract_to=climate_data_dir)"
   ]
  }
 ],
 "metadata": {
  "kernelspec": {
   "display_name": "venv",
   "language": "python",
   "name": "python3"
  },
  "language_info": {
   "codemirror_mode": {
    "name": "ipython",
    "version": 3
   },
   "file_extension": ".py",
   "mimetype": "text/x-python",
   "name": "python",
   "nbconvert_exporter": "python",
   "pygments_lexer": "ipython3",
   "version": "3.10.6"
  }
 },
 "nbformat": 4,
 "nbformat_minor": 5
}
